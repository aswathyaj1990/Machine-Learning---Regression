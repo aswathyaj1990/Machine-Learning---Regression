{
 "cells": [
  {
   "cell_type": "code",
   "execution_count": 5,
   "id": "d79b4aae-ffae-42ef-8bfb-f7b31205689e",
   "metadata": {},
   "outputs": [],
   "source": [
    "import numpy as np\n",
    "import pandas as pd\n",
    "import matplotlib.pyplot as plt\n",
    "import seaborn as sns\n",
    "from sklearn.datasets import fetch_california_housing\n",
    "from sklearn.model_selection import train_test_split\n",
    "from sklearn.preprocessing import StandardScaler\n",
    "from sklearn.linear_model import LinearRegression\n",
    "from sklearn.tree import DecisionTreeRegressor\n",
    "from sklearn.ensemble import RandomForestRegressor, GradientBoostingRegressor\n",
    "from sklearn.svm import SVR\n",
    "from sklearn.metrics import mean_squared_error, mean_absolute_error, r2_score\n",
    "\n"
   ]
  },
  {
   "cell_type": "code",
   "execution_count": 6,
   "id": "eaed17ae-d370-40b0-bccf-d128dfb1a565",
   "metadata": {},
   "outputs": [],
   "source": [
    "# Load California Housing dataset\n",
    "data = fetch_california_housing()"
   ]
  },
  {
   "cell_type": "code",
   "execution_count": 7,
   "id": "017b7d07-8508-4e69-8b40-6a1047dc43aa",
   "metadata": {},
   "outputs": [],
   "source": [
    "# Convert to DataFrame\n",
    "df = pd.DataFrame(data.data, columns=data.feature_names)\n",
    "df['Target'] = data.target\n",
    "\n"
   ]
  },
  {
   "cell_type": "code",
   "execution_count": 8,
   "id": "2be57516-7aa6-41b0-b469-00d7abaa8d17",
   "metadata": {},
   "outputs": [
    {
     "name": "stdout",
     "output_type": "stream",
     "text": [
      "Missing Values:\n",
      " MedInc        0\n",
      "HouseAge      0\n",
      "AveRooms      0\n",
      "AveBedrms     0\n",
      "Population    0\n",
      "AveOccup      0\n",
      "Latitude      0\n",
      "Longitude     0\n",
      "Target        0\n",
      "dtype: int64\n"
     ]
    }
   ],
   "source": [
    "# Check for missing values\n",
    "print(\"Missing Values:\\n\", df.isnull().sum())\n",
    "\n"
   ]
  },
  {
   "cell_type": "markdown",
   "id": "7dc41874-95b9-4f18-98da-eab2146b002e",
   "metadata": {},
   "source": [
    "We convert data to a DataFrame for efficient data manipulation, analysis, and compatibility with Pandas' powerful functions.\n",
    "Checking for missing values is essential to ensure data quality, prevent errors in analysis, and apply appropriate handling techniques for accurate results.\n"
   ]
  },
  {
   "cell_type": "code",
   "execution_count": 10,
   "id": "17aba250-448f-48fb-a924-426fa91479c3",
   "metadata": {},
   "outputs": [],
   "source": [
    "# Splitting dataset into features and target\n",
    "X = df.drop(columns=['Target'])\n",
    "y = df['Target']\n",
    "\n"
   ]
  },
  {
   "cell_type": "code",
   "execution_count": 11,
   "id": "143abaca-9992-4a6e-962c-9920ca228ec4",
   "metadata": {},
   "outputs": [],
   "source": [
    "# Splitting into training and testing sets\n",
    "X_train, X_test, y_train, y_test = train_test_split(X, y, test_size=0.2, random_state=42)\n"
   ]
  },
  {
   "cell_type": "code",
   "execution_count": 12,
   "id": "97ab987a-712e-47c6-8cab-3aa8d400c48b",
   "metadata": {},
   "outputs": [],
   "source": [
    "# Standardizing features\n",
    "scaler = StandardScaler()\n",
    "X_train_scaled = scaler.fit_transform(X_train)\n",
    "X_test_scaled = scaler.transform(X_test)\n",
    "\n",
    "\n",
    "\n"
   ]
  },
  {
   "cell_type": "code",
   "execution_count": 13,
   "id": "a823fb29-8269-4801-b69b-87f67fc5e59f",
   "metadata": {},
   "outputs": [],
   "source": [
    "# Initializing models\n",
    "models = {\n",
    "    \"Linear Regression\": LinearRegression(),\n",
    "    \"Decision Tree\": DecisionTreeRegressor(random_state=42),\n",
    "    \"Random Forest\": RandomForestRegressor(n_estimators=100, random_state=42),\n",
    "    \"Gradient Boosting\": GradientBoostingRegressor(random_state=42),\n",
    "    \"Support Vector Regressor\": SVR()\n",
    "}"
   ]
  },
  {
   "cell_type": "markdown",
   "id": "debef5ec-3041-47f5-b98b-3f3d83bf4bef",
   "metadata": {},
   "source": [
    "Random Forest is good because it reduces overfitting, handles missing values well, works with both classification and regression tasks, and improves accuracy by averaging multiple decision trees.\n",
    "\n",
    "Random Forest is good for California housing data because it handles non-linearity, captures complex feature interactions, reduces overfitting, and provides robust predictions even with missing or noisy data."
   ]
  },
  {
   "cell_type": "code",
   "execution_count": 14,
   "id": "f1cec74a-617f-4986-b69b-7e25a7f97526",
   "metadata": {},
   "outputs": [],
   "source": [
    "# Training and evaluating models\n",
    "results = {}\n",
    "for name, model in models.items():\n",
    "    if name == \"Support Vector Regressor\":\n",
    "        model.fit(X_train_scaled, y_train)\n",
    "        y_pred = model.predict(X_test_scaled)\n",
    "    else:\n",
    "        model.fit(X_train, y_train)\n",
    "        y_pred = model.predict(X_test)\n",
    "\n",
    "    results[name] = {\n",
    "        \"R2 Score\": r2_score(y_test, y_pred),\n",
    "        \"MSE\": mean_squared_error(y_test, y_pred),\n",
    "        \"MAE\": mean_absolute_error(y_test, y_pred)\n",
    "    }\n",
    "\n"
   ]
  },
  {
   "cell_type": "code",
   "execution_count": 15,
   "id": "e2d8dea5-c055-4d2e-9e9c-f8e91cb6c464",
   "metadata": {},
   "outputs": [
    {
     "name": "stdout",
     "output_type": "stream",
     "text": [
      "\n",
      "Model Performance Comparison:\n",
      "                           R2 Score       MSE       MAE\n",
      "Linear Regression         0.575788  0.555892  0.533200\n",
      "Decision Tree             0.622076  0.495235  0.454679\n",
      "Random Forest             0.805123  0.255368  0.327543\n",
      "Gradient Boosting         0.775645  0.293997  0.371643\n",
      "Support Vector Regressor  0.727563  0.357004  0.398599\n"
     ]
    }
   ],
   "source": [
    "# Convert results to DataFrame\n",
    "results_df = pd.DataFrame(results).T\n",
    "print(\"\\nModel Performance Comparison:\\n\", results_df)\n",
    "\n"
   ]
  },
  {
   "cell_type": "code",
   "execution_count": 16,
   "id": "097b855e-c603-45f8-884d-c90ee4eeb56b",
   "metadata": {},
   "outputs": [
    {
     "name": "stdout",
     "output_type": "stream",
     "text": [
      "Best Performing Model: Random Forest with R2 Score: 0.8051230593157366\n",
      "Worst Performing Model: Linear Regression with R2 Score: 0.575787706032451\n"
     ]
    }
   ],
   "source": [
    "# Identify best and worst performing models\n",
    "best_model = results_df['R2 Score'].idxmax()\n",
    "worst_model = results_df['R2 Score'].idxmin()\n",
    "\n",
    "print(f\"Best Performing Model: {best_model} with R2 Score: {results_df.loc[best_model, 'R2 Score']}\")\n",
    "print(f\"Worst Performing Model: {worst_model} with R2 Score: {results_df.loc[worst_model, 'R2 Score']}\")\n"
   ]
  },
  {
   "cell_type": "code",
   "execution_count": null,
   "id": "b01c190d-db60-4b3d-995b-de03fd4d385b",
   "metadata": {},
   "outputs": [],
   "source": []
  }
 ],
 "metadata": {
  "kernelspec": {
   "display_name": "Python 3 (ipykernel)",
   "language": "python",
   "name": "python3"
  },
  "language_info": {
   "codemirror_mode": {
    "name": "ipython",
    "version": 3
   },
   "file_extension": ".py",
   "mimetype": "text/x-python",
   "name": "python",
   "nbconvert_exporter": "python",
   "pygments_lexer": "ipython3",
   "version": "3.12.4"
  }
 },
 "nbformat": 4,
 "nbformat_minor": 5
}
